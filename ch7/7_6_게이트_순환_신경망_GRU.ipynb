{
  "nbformat": 4,
  "nbformat_minor": 0,
  "metadata": {
    "colab": {
      "provenance": []
    },
    "kernelspec": {
      "name": "python3",
      "display_name": "Python 3"
    },
    "language_info": {
      "name": "python"
    }
  },
  "cells": [
    {
      "cell_type": "code",
      "execution_count": 3,
      "metadata": {
        "id": "2u834iIqoykA"
      },
      "outputs": [],
      "source": [
        "#52 라이브러리 호출\n",
        "import torch\n",
        "import torch.nn as nn\n",
        "import torchvision.transforms as transforms\n",
        "import torchvision.datasets as dataset\n",
        "from torch.autograd import Variable\n",
        "from torch.nn import Parameter\n",
        "from torch import Tensor\n",
        "import torch.nn.functional as F\n",
        "from torch.utils.data import DataLoader\n",
        "import math\n",
        "\n",
        "device = torch.device(\"cuda:0\" if torch.cuda.is_available() else 'cpu')\n",
        "cuda = True if torch.cuda.is_available() else False\n",
        "\n",
        "Tensor = torch.cuda.FloatTensor if cuda else torch.FloatTensor\n",
        "\n",
        "torch.manual_seed(125)\n",
        "if torch.cuda.is_available():\n",
        "  torch.cuda.manual_seed_all(125)"
      ]
    },
    {
      "cell_type": "code",
      "source": [
        "#53 데이터 전처리\n",
        "mnist_transform = transforms.Compose([\n",
        "    transforms.ToTensor(),\n",
        "    transforms.Normalize((0.5,),(1.0,))\n",
        "])"
      ],
      "metadata": {
        "id": "Wq66UWF1Cn7S"
      },
      "execution_count": 5,
      "outputs": []
    },
    {
      "cell_type": "code",
      "source": [
        "#54 데이터셋 내려받기 및 전처리 적용\n",
        "from torchvision.datasets import MNIST\n",
        "download_root = '/content/drive/MyDrive/Colab Notebooks/MNIST_DATASET'\n",
        "\n",
        "train_dataset = MNIST(download_root, transform=mnist_transform, train=True, download=True)\n",
        "valid_dataset = MNIST(download_root, transform=mnist_transform, train=False, download=True)\n",
        "test_dataset = MNIST(download_root, transform=mnist_transform, train=False, download=True)"
      ],
      "metadata": {
        "id": "F613BhwRC9QK"
      },
      "execution_count": 6,
      "outputs": []
    },
    {
      "cell_type": "code",
      "source": [
        "#55 데이터셋 메모리로 가져오기\n",
        "batch_size = 64\n",
        "train_loader = DataLoader(dataset=train_dataset, batch_size=batch_size, shuffle=True)\n",
        "valid_loader = DataLoader(dataset=test_dataset, batch_size=batch_size, shuffle=True)\n",
        "test_loader = DataLoader(dataset=test_dataset, batch_size=batch_size, shuffle=True)"
      ],
      "metadata": {
        "id": "mOld6v1bDyYv"
      },
      "execution_count": 7,
      "outputs": []
    },
    {
      "cell_type": "code",
      "source": [
        "#56 변수값 설정\n",
        "batch_size = 100\n",
        "n_iters = 6000\n",
        "num_epochs = n_iters / (len(train_dataset)/batch_size)\n",
        "num_epochs = int(num_epochs)"
      ],
      "metadata": {
        "id": "ijUic1E7E-hU"
      },
      "execution_count": 8,
      "outputs": []
    },
    {
      "cell_type": "code",
      "source": [
        "#57GRU 셀 네트워크\n",
        "class GRUCell(nn.Module):\n",
        "  def __init__(self,input_size,hidden_size, bias=True):\n",
        "    super(GRUCell, self).__init__()\n",
        "    self.input_size = input_size\n",
        "    self.hidden_size = hidden_size\n",
        "    self.bias = bias\n",
        "    self.x2h = nn.Linear(input_size, 3*hidden_size, bias=bias) #RNN과 달리 GRU에서는 4를 곱한다\n",
        "    self.h2h = nn.Linear(input_size, 3*hidden_size, bias=bias) #RNN과 달리 GRU에서는 4를 곱한다\n",
        "    self.reset_parameters()\n",
        "\n",
        "  def reset_parameters(self):\n",
        "    std = 1.0/math.sqrt(self.hidden_size)\n",
        "    for w in self.parameters():\n",
        "      w.data.uniform_(-std, std)\n",
        "\n",
        "  def forward(self, x, hidden):\n",
        "    x = x.view(-1, x.size(1))\n",
        "\n",
        "    gate_x = self.x2h(x) #LSTM셀에서는 gates를 x2h+h2h로 정의 했지만 GRU셀에서는 개별적인 상태를 유지\n",
        "    gate_h = self.h2h(hidden)\n",
        "\n",
        "    gate_x = gate_x.squeeze()\n",
        "    gate_h = gate_h.squeeze()\n",
        "\n",
        "    i_r, i_i, i_n = gate_x.chunk(3,1) #총  세개의 게이트를 위해 세개로 쪼갬\n",
        "    h_r, h_i, h_n = gate_h.chunk(3,1)\n",
        "\n",
        "    resetgate = F.sigmoid(i_r+h_r)\n",
        "    inputgate = F.sigmoid(i_i + h_i)\n",
        "    newgate = F.tanh(i_n+(resetgate * h_n)) #새로운 게이트는 탄젠트 활성화 함수가 적용된 게이트\n",
        "\n",
        "    hy = newgate + inputgate*(hidden - newgate)\n",
        "    return hy"
      ],
      "metadata": {
        "id": "_SsYb-jlFLXP"
      },
      "execution_count": 9,
      "outputs": []
    },
    {
      "cell_type": "code",
      "source": [
        "#58 전반적인 네트워크 구조\n",
        "class GRUModel(nn.Module):\n",
        "  def __init__(self, input_dim, hidden_dim, layer_dim, output_dim, bias=True):\n",
        "    super(GRUModel, self).__init__()\n",
        "    self.hidden_dim = hidden_dim\n",
        "    self.layer_dim = layer_dim\n",
        "\n",
        "    self.gru_cell = GRUCell(input_dim, hidden_dim, layer_dim)\n",
        "    self.fc = nn.Linear(hidden_dim, output_dim)\n",
        "\n",
        "  def forward(self, x):\n",
        "    if torch.cuda.is_available():\n",
        "      h0 = Variable(torch.zeros(self.layer_dim, x.size(0), self.hidden_dim).cuda())\n",
        "    else :\n",
        "      h0 = Variable(torch.zeros(self.layer_dim, x.size(0), self.hidden_dim))\n",
        "\n",
        "    outs = []\n",
        "    hn = h0[0,:,:] #LSTM셀에서는 셀 상태에 대해서도 정의했었지만 GRU셀에서는 셀은 사용되지 않음\n",
        "\n",
        "    for seq in range(x.size(1)):\n",
        "      hn = self.gru_cell(x[:,seq,:],hn)\n",
        "      outs.append(hn)\n",
        "\n",
        "    out =outs[-1].squeeze(0)\n",
        "    out = self.fc(out)\n",
        "    return out"
      ],
      "metadata": {
        "id": "NB8E4_21HNm6"
      },
      "execution_count": 21,
      "outputs": []
    },
    {
      "cell_type": "code",
      "source": [
        "#59 옵티마이저와 손실 함수 설정\n",
        "input_dim = 28\n",
        "hidden_dim = 28\n",
        "layer_dim = 1\n",
        "output_dim = 10\n",
        "\n",
        "model = GRUModel(input_dim, hidden_dim, layer_dim, output_dim)\n",
        "\n",
        "if torch.cuda.is_available():\n",
        "  model.cuda()\n",
        "\n",
        "criterion = nn.CrossEntropyLoss()\n",
        "learning_rate = 0.1\n",
        "optimizer = torch.optim.SGD(model.parameters(), lr = learning_rate)"
      ],
      "metadata": {
        "id": "PTLC2eiUIpQP"
      },
      "execution_count": 32,
      "outputs": []
    },
    {
      "cell_type": "code",
      "source": [
        "#60 모델학습 및 성능 검증\n",
        "seq_dim = 28\n",
        "loss_list = []\n",
        "iter = 0\n",
        "for epoch in range(num_epochs):\n",
        "  for i, (images, labels) in enumerate(train_loader):\n",
        "    if torch.cuda.is_available():\n",
        "      images = Variable(images.view(-1, seq_dim, input_dim).cuda())\n",
        "      labels = Variable(labels.cuda())\n",
        "    else :\n",
        "      images = Variable(images.view(-1, seq_dim, input_dim))\n",
        "      labels = Variable(labels)\n",
        "\n",
        "    optimizer.zero_grad()\n",
        "    outputs = model(images)\n",
        "    loss = criterion(outputs, labels)\n",
        "    if torch.cuda.is_available():\n",
        "      loss.cuda()\n",
        "\n",
        "    loss.backward()\n",
        "    optimizer.step()\n",
        "\n",
        "    loss_list.append(loss.item())\n",
        "    iter += 1\n",
        "    if iter % 500 == 0:\n",
        "      correct = 0\n",
        "      total = 0\n",
        "      for images, labels in valid_loader:\n",
        "        if torch.cuda.is_available():\n",
        "          images = Variable(images.view(-1, seq_dim, input_dim).cuda())\n",
        "        else :\n",
        "          images = Variable(images.view(-1, seq_dim, input_dim))\n",
        "\n",
        "        outputs = model(images)\n",
        "        _, predicted = torch.max(outputs.data, 1)\n",
        "        total += labels.size(0)\n",
        "\n",
        "        if torch.cuda.is_available():\n",
        "          correct += (predicted.cpu() == labels.cpu()).sum()\n",
        "        else :\n",
        "          correct += (predicted == labels).sum()\n",
        "      accuracy = 100 * correct / total\n",
        "      print('Iteration: {}. Loss:{}. Accuracy: {}'.format(iter, loss.item(), accuracy))"
      ],
      "metadata": {
        "colab": {
          "base_uri": "https://localhost:8080/"
        },
        "id": "ZG4SNegvJAOF",
        "outputId": "22b8a4d7-dfd4-403b-89c1-411209af3401"
      },
      "execution_count": 34,
      "outputs": [
        {
          "output_type": "stream",
          "name": "stdout",
          "text": [
            "Iteration: 500. Loss:0.8988965749740601. Accuracy: 71.06999969482422\n",
            "Iteration: 1000. Loss:0.5725591778755188. Accuracy: 85.33000183105469\n",
            "Iteration: 1500. Loss:0.4086204171180725. Accuracy: 91.27999877929688\n",
            "Iteration: 2000. Loss:0.38924893736839294. Accuracy: 92.86000061035156\n",
            "Iteration: 2500. Loss:0.3154514729976654. Accuracy: 94.4800033569336\n",
            "Iteration: 3000. Loss:0.15545672178268433. Accuracy: 95.30000305175781\n",
            "Iteration: 3500. Loss:0.23027068376541138. Accuracy: 95.43000030517578\n",
            "Iteration: 4000. Loss:0.13139575719833374. Accuracy: 95.88999938964844\n",
            "Iteration: 4500. Loss:0.2347663938999176. Accuracy: 95.83000183105469\n",
            "Iteration: 5000. Loss:0.08070706576108932. Accuracy: 95.75\n",
            "Iteration: 5500. Loss:0.16477322578430176. Accuracy: 95.69000244140625\n",
            "Iteration: 6000. Loss:0.06467495858669281. Accuracy: 96.33999633789062\n",
            "Iteration: 6500. Loss:0.17888538539409637. Accuracy: 96.75\n",
            "Iteration: 7000. Loss:0.04801046848297119. Accuracy: 96.69999694824219\n",
            "Iteration: 7500. Loss:0.13684721291065216. Accuracy: 97.04000091552734\n",
            "Iteration: 8000. Loss:0.1978323757648468. Accuracy: 97.11000061035156\n",
            "Iteration: 8500. Loss:0.11288157850503922. Accuracy: 97.2300033569336\n",
            "Iteration: 9000. Loss:0.05488066375255585. Accuracy: 97.22000122070312\n"
          ]
        }
      ]
    },
    {
      "cell_type": "code",
      "source": [
        "#61 테스트 데이터셋을 이용한 모델 예측\n",
        "def evaluate(model, val_iter):\n",
        "  corrects, total, total_loss = 0,0,0\n",
        "  model.eval()\n",
        "  for images, labels in val_iter:\n",
        "    if torch.cuda.is_available():\n",
        "      images = Variable(images.view(-1, seq_dim, input_dim).cuda())\n",
        "    else :\n",
        "      images = Variable(images.view(-1, seq_dim, input_dim)).to(device)\n",
        "\n",
        "    logit = model(images).to(device)\n",
        "    loss = F.cross_entropy(logit, labels, reduction=\"sum\")\n",
        "    _, predicted = torch.max(logit.data,1)\n",
        "    total += labels.size(0)\n",
        "    total_loss += loss.item()\n",
        "    corrects += (predicted == labels).sum()\n",
        "\n",
        "  avg_loss = total_loss / len(val_iter.dataset)\n",
        "  avg_accuracy = corrects / total\n",
        "  return avg_loss, avg_accuracy"
      ],
      "metadata": {
        "id": "A3v-3-8TKomq"
      },
      "execution_count": 37,
      "outputs": []
    },
    {
      "cell_type": "code",
      "source": [
        "#62 모델 예측 결과\n",
        "test_loss, test_acc = evaluate(model, test_loader)\n",
        "print(\"Test Loss: %5.2f | Test Accuracy: %5.2f\"%(test_loss, test_acc))"
      ],
      "metadata": {
        "colab": {
          "base_uri": "https://localhost:8080/"
        },
        "id": "UEAJhXqrT5qA",
        "outputId": "5a617c47-ff45-4bf5-c567-7c3417c2b2ea"
      },
      "execution_count": 38,
      "outputs": [
        {
          "output_type": "stream",
          "name": "stdout",
          "text": [
            "Test Loss:  0.10 | Test Accuracy:  0.97\n"
          ]
        }
      ]
    },
    {
      "cell_type": "code",
      "source": [],
      "metadata": {
        "id": "Pc0pWynXVN5W"
      },
      "execution_count": null,
      "outputs": []
    }
  ]
}